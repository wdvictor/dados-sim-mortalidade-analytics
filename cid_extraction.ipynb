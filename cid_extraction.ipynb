{
 "cells": [
  {
   "cell_type": "code",
   "execution_count": null,
   "id": "e2bd6c6f",
   "metadata": {},
   "outputs": [],
   "source": [
    "from bs4 import BeautifulSoup\n",
    "import requests"
   ]
  },
  {
   "cell_type": "code",
   "execution_count": 31,
   "id": "682937e2",
   "metadata": {},
   "outputs": [
    {
     "data": {
      "text/plain": [
       "['https://portal.afya.com.br/I',\n",
       " 'https://portal.afya.com.br/II',\n",
       " 'https://portal.afya.com.br/III',\n",
       " 'https://portal.afya.com.br/IV',\n",
       " 'https://portal.afya.com.br/V',\n",
       " 'https://portal.afya.com.br/VI',\n",
       " 'https://portal.afya.com.br/VII',\n",
       " 'https://portal.afya.com.br/VIII',\n",
       " 'https://portal.afya.com.br/IX',\n",
       " 'https://portal.afya.com.br/X',\n",
       " 'https://portal.afya.com.br/XI',\n",
       " 'https://portal.afya.com.br/XII',\n",
       " 'https://portal.afya.com.br/XIII',\n",
       " 'https://portal.afya.com.br/XIV',\n",
       " 'https://portal.afya.com.br/XV',\n",
       " 'https://portal.afya.com.br/XVI',\n",
       " 'https://portal.afya.com.br/XVII',\n",
       " 'https://portal.afya.com.br/XVIII',\n",
       " 'https://portal.afya.com.br/XIX',\n",
       " 'https://portal.afya.com.br/XX',\n",
       " 'https://portal.afya.com.br/XXI',\n",
       " 'https://portal.afya.com.br/XXII']"
      ]
     },
     "execution_count": 31,
     "metadata": {},
     "output_type": "execute_result"
    }
   ],
   "source": [
    "cid_url = \"https://portal.afya.com.br\"\n",
    "\n",
    "\n",
    "headers = {\n",
    "    'User-Agent': 'Mortalidade-analitics'\n",
    "}\n",
    "\n",
    "response = requests.get(cid_url + '/codigos', headers=headers)\n",
    "\n",
    "chapters_links = list()\n",
    "if response.status_code == 200:\n",
    "    soup = BeautifulSoup(response.text, 'html.parser')\n",
    "\n",
    "    chapters_divs = soup.find_all(class_=\"flex flex-col pb-8 border-b border-solid border-neutral-light gap-y-4\")\n",
    "\n",
    "    for div in chapters_divs:\n",
    "        a_element = div.find(\"a\")\n",
    "        chapters_links.append(cid_url + '/' + a_element['href'].split('/')[2])\n",
    "        \n",
    "        \n",
    "chapters_links"
   ]
  },
  {
   "cell_type": "code",
   "execution_count": null,
   "id": "901d1a75",
   "metadata": {},
   "outputs": [],
   "source": [
    "code_links = []\n",
    "for link in chapters_links:\n",
    "    response = requests.get(link, headers=headers)\n",
    "    soup = BeautifulSoup(response.text, 'html.parser')\n",
    "\n",
    "    chapters = soup.find_all(class_=\"flex flex-col w-full pb-8 border-b border-solid gap-y-4 border-neutral-light\")\n",
    "    for chapter in chapters:\n",
    "        a_element = chapter.find('a')\n",
    "        \n",
    "        code_links.append(a_element['href'])\n",
    "    break\n",
    "\n",
    "code_links\n"
   ]
  },
  {
   "cell_type": "code",
   "execution_count": null,
   "id": "84853365",
   "metadata": {},
   "outputs": [
    {
     "name": "stdout",
     "output_type": "stream",
     "text": [
      "A00\n",
      "Cólera\n"
     ]
    }
   ],
   "source": [
    "cid_dict = {}\n",
    "for code in  code_links:\n",
    "    response = requests.get(cid_url + code, headers=headers)\n",
    "   \n",
    "    soup = BeautifulSoup(response.text, 'html.parser')\n",
    "    div_elements = soup.find_all(class_='flex flex-col w-full pb-8 border-b border-solid gap-y-4 border-neutral-light')\n",
    "   \n",
    "    for div_element in div_elements:\n",
    "        code = div_element.find('h2')\n",
    "        description = div_element.find('h3')\n",
    "        print(code.text)\n",
    "        print(description.text)\n",
    "        cid_dict[code.text] = description\n",
    "        break\n",
    "    break"
   ]
  },
  {
   "cell_type": "code",
   "execution_count": null,
   "id": "d4731ee4",
   "metadata": {},
   "outputs": [],
   "source": []
  }
 ],
 "metadata": {
  "kernelspec": {
   "display_name": "venv",
   "language": "python",
   "name": "python3"
  },
  "language_info": {
   "codemirror_mode": {
    "name": "ipython",
    "version": 3
   },
   "file_extension": ".py",
   "mimetype": "text/x-python",
   "name": "python",
   "nbconvert_exporter": "python",
   "pygments_lexer": "ipython3",
   "version": "3.12.3"
  }
 },
 "nbformat": 4,
 "nbformat_minor": 5
}
