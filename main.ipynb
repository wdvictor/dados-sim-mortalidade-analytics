{
 "cells": [
  {
   "cell_type": "code",
   "execution_count": null,
   "metadata": {},
   "outputs": [],
   "source": [
    "from google.cloud import storage\n",
    "from google.cloud.storage.blob import Blob\n",
    "from google.api_core.page_iterator import HTTPIterator\n",
    "from io import StringIO\n",
    "import pandas as pd\n",
    "\n"
   ]
  },
  {
   "cell_type": "code",
   "execution_count": 3,
   "metadata": {},
   "outputs": [],
   "source": [
    "key_path ='gcs-key.json'\n",
    "client = storage.Client.from_service_account_json(key_path)\n",
    "bucket_name = 'mortalidade-analytics'\n",
    "bucket = client.bucket(bucket_name)\n",
    "\n"
   ]
  },
  {
   "cell_type": "code",
   "execution_count": 4,
   "metadata": {},
   "outputs": [],
   "source": [
    "blobs = list(bucket.list_blobs())\n"
   ]
  },
  {
   "cell_type": "code",
   "execution_count": null,
   "metadata": {},
   "outputs": [
    {
     "name": "stderr",
     "output_type": "stream",
     "text": [
      "/tmp/ipykernel_26461/2310283639.py:8: DtypeWarning: Columns (13,14,21,26,37,40) have mixed types. Specify dtype option on import or set low_memory=False.\n",
      "  df_temp = pd.read_csv(StringIO(blob.download_as_text()))\n",
      "/tmp/ipykernel_26461/2310283639.py:8: DtypeWarning: Columns (13,21,26,40,41) have mixed types. Specify dtype option on import or set low_memory=False.\n",
      "  df_temp = pd.read_csv(StringIO(blob.download_as_text()))\n",
      "/tmp/ipykernel_26461/2310283639.py:8: DtypeWarning: Columns (57,62,74,86) have mixed types. Specify dtype option on import or set low_memory=False.\n",
      "  df_temp = pd.read_csv(StringIO(blob.download_as_text()))\n",
      "/tmp/ipykernel_26461/2310283639.py:8: DtypeWarning: Columns (12,13,14,21,26,41) have mixed types. Specify dtype option on import or set low_memory=False.\n",
      "  df_temp = pd.read_csv(StringIO(blob.download_as_text()))\n"
     ]
    }
   ],
   "source": [
    "dfs = []\n",
    "\n",
    "i = 0\n",
    "for blob in blobs:\n",
    "    i +=1\n",
    "    if(i == 5):\n",
    "        break\n",
    "    df_temp = pd.read_csv(StringIO(blob.download_as_text()))\n",
    "    dfs.append(df_temp)\n",
    "\n",
    "df = pd.concat(dfs,  ignore_index=True)"
   ]
  },
  {
   "cell_type": "code",
   "execution_count": 39,
   "metadata": {},
   "outputs": [
    {
     "name": "stdout",
     "output_type": "stream",
     "text": [
      "195329\n"
     ]
    },
    {
     "data": {
      "text/plain": [
       "663335    08:00:00\n",
       "663336    09:20:00\n",
       "663337    13:40:00\n",
       "663340    19:40:00\n",
       "663341    13:00:00\n",
       "            ...   \n",
       "867204    14:25:00\n",
       "867205    13:15:00\n",
       "867206    01:41:00\n",
       "867207    22:45:00\n",
       "867208    07:20:00\n",
       "Name: hora_obito, Length: 195329, dtype: object"
      ]
     },
     "execution_count": 39,
     "metadata": {},
     "output_type": "execute_result"
    }
   ],
   "source": [
    "print(len(df))\n",
    "\n",
    "df = df.dropna(subset=['hora_obito'])\n",
    "df['hora_obito']"
   ]
  },
  {
   "cell_type": "code",
   "execution_count": null,
   "metadata": {},
   "outputs": [
    {
     "name": "stdout",
     "output_type": "stream",
     "text": [
      "5\n"
     ]
    }
   ],
   "source": [
    "\n",
    "\n"
   ]
  },
  {
   "cell_type": "code",
   "execution_count": null,
   "metadata": {},
   "outputs": [
    {
     "data": {
      "text/plain": [
       "Index(['ano', 'sigla_uf', 'sequencial_obito', 'tipo_obito', 'causa_basica',\n",
       "       'data_obito', 'hora_obito', 'naturalidade', 'data_nascimento', 'idade',\n",
       "       'sexo', 'raca_cor', 'estado_civil', 'escolaridade', 'ocupacao',\n",
       "       'codigo_bairro_residencia', 'id_municipio_residencia',\n",
       "       'local_ocorrencia', 'codigo_bairro_ocorrencia',\n",
       "       'id_municipio_ocorrencia', 'idade_mae', 'escolaridade_mae',\n",
       "       'ocupacao_mae', 'quantidade_filhos_vivos', 'quantidade_filhos_mortos',\n",
       "       'gravidez', 'gestacao', 'parto', 'obito_parto', 'morte_parto', 'peso',\n",
       "       'obito_gravidez', 'obito_puerperio', 'assistencia_medica', 'exame',\n",
       "       'cirurgia', 'necropsia', 'linha_a', 'linha_b', 'linha_c', 'linha_d',\n",
       "       'linha_ii', 'circunstancia_obito', 'acidente_trabalho', 'fonte',\n",
       "       'codigo_estabelecimento', 'atestante', 'data_atestado', 'tipo_pos',\n",
       "       'data_investigacao', 'causa_basica_original', 'data_cadastro',\n",
       "       'fonte_investigacao', 'data_recebimento', 'causa_basica_pre',\n",
       "       'tipo_obito_ocorrencia', 'tipo_morte_ocorrencia',\n",
       "       'data_cadastro_informacao', 'data_cadastro_investigacao',\n",
       "       'id_municipio_svo_iml', 'data_recebimento_original',\n",
       "       'data_recebimento_original_a', 'causa_materna', 'status_do_epidem',\n",
       "       'status_do_nova', 'serie_escolar_falecido', 'serie_escolar_mae',\n",
       "       'escolaridade_2010', 'escolaridade_mae_2010',\n",
       "       'escolaridade_falecido_2010_agr', 'escolaridade_mae_2010_agr',\n",
       "       'semanas_gestacao', 'diferenca_data', 'data_conclusao_investigacao',\n",
       "       'data_conclusao_caso', 'numero_dias_obito_investigacao',\n",
       "       'id_municipio_naturalidade', 'descricao_estabelecimento', 'crm',\n",
       "       'numero_lote', 'status_codificadora', 'codificado', 'versao_sistema',\n",
       "       'versao_scb', 'atestado', 'numero_dias_obito_ficha', 'fontes',\n",
       "       'tipo_resgate_informacao', 'tipo_nivel_investigador',\n",
       "       'numero_dias_informacao', 'fontes_informacao', 'alt_causa'],\n",
       "      dtype='object')"
      ]
     },
     "execution_count": 17,
     "metadata": {},
     "output_type": "execute_result"
    }
   ],
   "source": [
    "df.columns"
   ]
  },
  {
   "cell_type": "code",
   "execution_count": 5,
   "metadata": {},
   "outputs": [
    {
     "name": "stdout",
     "output_type": "stream",
     "text": [
      "{'t80': 'awdadwadawd'}\n"
     ]
    }
   ],
   "source": [
    "map = {}\n",
    "\n",
    "map['t80'] = 'awdadwadawd'\n",
    "\n",
    "print(map)"
   ]
  }
 ],
 "metadata": {
  "kernelspec": {
   "display_name": "venv",
   "language": "python",
   "name": "python3"
  },
  "language_info": {
   "codemirror_mode": {
    "name": "ipython",
    "version": 3
   },
   "file_extension": ".py",
   "mimetype": "text/x-python",
   "name": "python",
   "nbconvert_exporter": "python",
   "pygments_lexer": "ipython3",
   "version": "3.12.3"
  }
 },
 "nbformat": 4,
 "nbformat_minor": 2
}
