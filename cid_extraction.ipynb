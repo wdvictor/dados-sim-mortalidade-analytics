{
 "cells": [
  {
   "cell_type": "code",
   "execution_count": 1,
   "id": "e2bd6c6f",
   "metadata": {},
   "outputs": [],
   "source": [
    "from bs4 import BeautifulSoup\n",
    "import requests"
   ]
  },
  {
   "cell_type": "code",
   "execution_count": 2,
   "id": "682937e2",
   "metadata": {},
   "outputs": [],
   "source": [
    "cid_url = \"https://portal.afya.com.br/codigos\"\n",
    "\n",
    "\n",
    "headers = {\n",
    "    'User-Agent': 'Mozilla/5.0 (Windows NT 10.0; Win64; x64) AppleWebKit/537.36 (KHTML, like Gecko) Chrome/123.0.0.0 Safari/537.36'\n",
    "}\n",
    "\n",
    "response = requests.get(cid_url, headers=headers)\n",
    "\n",
    "chapters_links = list()\n",
    "if response.status_code == 200:\n",
    "    soup = BeautifulSoup(response.text, 'html.parser')\n",
    "\n",
    "    chapters_divs = soup.find_all(class_=\"flex flex-col pb-8 border-b border-solid border-neutral-light gap-y-4\")\n",
    "\n",
    "    for div in chapters_divs:\n",
    "        a_element = div.find(\"a\")\n",
    "        chapters_links.append(cid_url + '/' + a_element['href'].split('/')[2])\n",
    "        \n",
    "        \n",
    "    "
   ]
  },
  {
   "cell_type": "code",
   "execution_count": null,
   "id": "901d1a75",
   "metadata": {},
   "outputs": [],
   "source": [
    "\n",
    "for link in chapters_links:\n",
    "    response = requests.get(link, headers=headers)\n",
    "soup = BeautifulSoup(response.text, 'html.parser')"
   ]
  },
  {
   "cell_type": "code",
   "execution_count": null,
   "id": "d4731ee4",
   "metadata": {},
   "outputs": [],
   "source": []
  }
 ],
 "metadata": {
  "kernelspec": {
   "display_name": "venv",
   "language": "python",
   "name": "python3"
  },
  "language_info": {
   "codemirror_mode": {
    "name": "ipython",
    "version": 3
   },
   "file_extension": ".py",
   "mimetype": "text/x-python",
   "name": "python",
   "nbconvert_exporter": "python",
   "pygments_lexer": "ipython3",
   "version": "3.12.3"
  }
 },
 "nbformat": 4,
 "nbformat_minor": 5
}
