{
 "cells": [
  {
   "cell_type": "code",
   "execution_count": 12,
   "id": "ac8e00c5",
   "metadata": {},
   "outputs": [],
   "source": [
    "import pandas as pd\n",
    "import json\n"
   ]
  },
  {
   "cell_type": "code",
   "execution_count": 13,
   "id": "3209aa6c",
   "metadata": {},
   "outputs": [],
   "source": [
    "df1 = pd.read_csv('dataset/cid_10.csv')"
   ]
  },
  {
   "cell_type": "code",
   "execution_count": 14,
   "id": "dd48f9e5",
   "metadata": {},
   "outputs": [],
   "source": [
    "cid_10_dict = {}\n",
    "for i, row in df1.iterrows():\n",
    "    split = row['Categoria'].split('-')\n",
    "    if not split[0].startswith('Capítulo') and len(split) == 2:\n",
    "        cid_10_dict[split[0].replace(' ', '')] = split[1]\n",
    "\n"
   ]
  },
  {
   "cell_type": "code",
   "execution_count": 15,
   "id": "0ed31e47",
   "metadata": {},
   "outputs": [],
   "source": [
    "with open('cid_codes.json', 'w', encoding='utf-8') as f:\n",
    "    json.dump(cid_10_dict, f, ensure_ascii=False, indent=1)"
   ]
  }
 ],
 "metadata": {
  "kernelspec": {
   "display_name": "venv",
   "language": "python",
   "name": "python3"
  },
  "language_info": {
   "codemirror_mode": {
    "name": "ipython",
    "version": 3
   },
   "file_extension": ".py",
   "mimetype": "text/x-python",
   "name": "python",
   "nbconvert_exporter": "python",
   "pygments_lexer": "ipython3",
   "version": "3.12.3"
  }
 },
 "nbformat": 4,
 "nbformat_minor": 5
}
