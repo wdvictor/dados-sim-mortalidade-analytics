{
 "cells": [
  {
   "cell_type": "code",
   "execution_count": 1,
   "id": "e2bd6c6f",
   "metadata": {},
   "outputs": [],
   "source": [
    "from bs4 import BeautifulSoup\n",
    "import requests"
   ]
  },
  {
   "cell_type": "code",
   "execution_count": 4,
   "id": "682937e2",
   "metadata": {},
   "outputs": [
    {
     "data": {
      "text/plain": [
       "['https://portal.afya.com.br/codigos/I',\n",
       " 'https://portal.afya.com.br/codigos/II',\n",
       " 'https://portal.afya.com.br/codigos/III',\n",
       " 'https://portal.afya.com.br/codigos/IV',\n",
       " 'https://portal.afya.com.br/codigos/V',\n",
       " 'https://portal.afya.com.br/codigos/VI',\n",
       " 'https://portal.afya.com.br/codigos/VII',\n",
       " 'https://portal.afya.com.br/codigos/VIII',\n",
       " 'https://portal.afya.com.br/codigos/IX',\n",
       " 'https://portal.afya.com.br/codigos/X',\n",
       " 'https://portal.afya.com.br/codigos/XI',\n",
       " 'https://portal.afya.com.br/codigos/XII',\n",
       " 'https://portal.afya.com.br/codigos/XIII',\n",
       " 'https://portal.afya.com.br/codigos/XIV',\n",
       " 'https://portal.afya.com.br/codigos/XV',\n",
       " 'https://portal.afya.com.br/codigos/XVI',\n",
       " 'https://portal.afya.com.br/codigos/XVII',\n",
       " 'https://portal.afya.com.br/codigos/XVIII',\n",
       " 'https://portal.afya.com.br/codigos/XIX',\n",
       " 'https://portal.afya.com.br/codigos/XX',\n",
       " 'https://portal.afya.com.br/codigos/XXI',\n",
       " 'https://portal.afya.com.br/codigos/XXII']"
      ]
     },
     "execution_count": 4,
     "metadata": {},
     "output_type": "execute_result"
    }
   ],
   "source": [
    "cid_url = \"https://portal.afya.com.br/codigos\"\n",
    "\n",
    "\n",
    "headers = {\n",
    "    'User-Agent': 'Mortalidade-analitics'\n",
    "}\n",
    "\n",
    "response = requests.get(cid_url, headers=headers)\n",
    "\n",
    "chapters_links = list()\n",
    "if response.status_code == 200:\n",
    "    soup = BeautifulSoup(response.text, 'html.parser')\n",
    "\n",
    "    chapters_divs = soup.find_all(class_=\"flex flex-col pb-8 border-b border-solid border-neutral-light gap-y-4\")\n",
    "\n",
    "    for div in chapters_divs:\n",
    "        a_element = div.find(\"a\")\n",
    "        chapters_links.append(cid_url + '/' + a_element['href'].split('/')[2])\n",
    "        \n",
    "        \n",
    "chapters_links"
   ]
  },
  {
   "cell_type": "code",
   "execution_count": 20,
   "id": "901d1a75",
   "metadata": {},
   "outputs": [
    {
     "data": {
      "text/plain": [
       "['/codigos/I/grupo/A00-A09',\n",
       " '/codigos/I/grupo/A15-A19',\n",
       " '/codigos/I/grupo/A20-A28',\n",
       " '/codigos/I/grupo/A30-A49',\n",
       " '/codigos/I/grupo/A50-A64',\n",
       " '/codigos/I/grupo/A65-A69',\n",
       " '/codigos/I/grupo/A70-A74',\n",
       " '/codigos/I/grupo/A75-A79',\n",
       " '/codigos/I/grupo/A80-A89',\n",
       " '/codigos/I/grupo/A90-A99',\n",
       " '/codigos/I/grupo/B00-B09',\n",
       " '/codigos/I/grupo/B15-B19',\n",
       " '/codigos/I/grupo/B20-B24',\n",
       " '/codigos/I/grupo/B25-B34',\n",
       " '/codigos/I/grupo/B35-B49',\n",
       " '/codigos/I/grupo/B50-B64',\n",
       " '/codigos/I/grupo/B65-B83',\n",
       " '/codigos/I/grupo/B85-B89',\n",
       " '/codigos/I/grupo/B90-B94',\n",
       " '/codigos/I/grupo/B95-B97',\n",
       " '/codigos/I/grupo/B99-B99',\n",
       " '/codigos/I/grupo/C00-C97',\n",
       " '/codigos/I/grupo/C00-C75',\n",
       " '/codigos/I/grupo/C00-C14',\n",
       " '/codigos/I/grupo/C15-C26',\n",
       " '/codigos/I/grupo/C30-C39',\n",
       " '/codigos/I/grupo/C40-C41',\n",
       " '/codigos/I/grupo/C43-C44',\n",
       " '/codigos/I/grupo/C45-C49',\n",
       " '/codigos/I/grupo/C50-C50',\n",
       " '/codigos/I/grupo/C51-C58',\n",
       " '/codigos/I/grupo/C60-C63',\n",
       " '/codigos/I/grupo/C64-C68',\n",
       " '/codigos/I/grupo/C69-C72',\n",
       " '/codigos/I/grupo/C73-C75',\n",
       " '/codigos/I/grupo/C76-C80',\n",
       " '/codigos/I/grupo/C81-C96',\n",
       " '/codigos/I/grupo/C97-C97',\n",
       " '/codigos/I/grupo/D00-D09',\n",
       " '/codigos/I/grupo/D10-D36',\n",
       " '/codigos/I/grupo/D37-D48',\n",
       " '/codigos/I/grupo/D50-D53',\n",
       " '/codigos/I/grupo/D55-D59',\n",
       " '/codigos/I/grupo/D60-D64',\n",
       " '/codigos/I/grupo/D65-D69',\n",
       " '/codigos/I/grupo/D70-D77',\n",
       " '/codigos/I/grupo/D80-D89',\n",
       " '/codigos/I/grupo/E00-E07',\n",
       " '/codigos/I/grupo/E10-E14',\n",
       " '/codigos/I/grupo/E15-E16',\n",
       " '/codigos/I/grupo/E20-E35',\n",
       " '/codigos/I/grupo/E40-E46',\n",
       " '/codigos/I/grupo/E50-E64',\n",
       " '/codigos/I/grupo/E65-E68',\n",
       " '/codigos/I/grupo/E70-E90',\n",
       " '/codigos/I/grupo/I00-I02',\n",
       " '/codigos/I/grupo/I05-I09',\n",
       " '/codigos/I/grupo/I10-I15',\n",
       " '/codigos/I/grupo/I20-I25',\n",
       " '/codigos/I/grupo/I26-I28',\n",
       " '/codigos/I/grupo/I30-I52',\n",
       " '/codigos/I/grupo/I60-I69',\n",
       " '/codigos/I/grupo/I70-I79',\n",
       " '/codigos/I/grupo/I80-I89',\n",
       " '/codigos/I/grupo/I95-I99']"
      ]
     },
     "execution_count": 20,
     "metadata": {},
     "output_type": "execute_result"
    }
   ],
   "source": [
    "code_links = []\n",
    "for link in chapters_links:\n",
    "    response = requests.get(link, headers=headers)\n",
    "    soup = BeautifulSoup(response.text, 'html.parser')\n",
    "\n",
    "    chapters = soup.find_all(class_=\"flex flex-col w-full pb-8 border-b border-solid gap-y-4 border-neutral-light\")\n",
    "    for chapter in chapters:\n",
    "        a_element = chapter.find('a')\n",
    "        \n",
    "        code_links.append(a_element['href'])\n",
    "    break\n",
    "\n",
    "code_links\n"
   ]
  },
  {
   "cell_type": "code",
   "execution_count": null,
   "id": "d4731ee4",
   "metadata": {},
   "outputs": [],
   "source": []
  }
 ],
 "metadata": {
  "kernelspec": {
   "display_name": "venv",
   "language": "python",
   "name": "python3"
  },
  "language_info": {
   "codemirror_mode": {
    "name": "ipython",
    "version": 3
   },
   "file_extension": ".py",
   "mimetype": "text/x-python",
   "name": "python",
   "nbconvert_exporter": "python",
   "pygments_lexer": "ipython3",
   "version": "3.12.3"
  }
 },
 "nbformat": 4,
 "nbformat_minor": 5
}
